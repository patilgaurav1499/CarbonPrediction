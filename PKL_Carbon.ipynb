{
 "cells": [
  {
   "cell_type": "code",
   "execution_count": 17,
   "metadata": {},
   "outputs": [],
   "source": [
    "import pandas as pd\n",
    "import pickle\n",
    "import matplotlib.pyplot as plt"
   ]
  },
  {
   "cell_type": "code",
   "execution_count": 18,
   "metadata": {},
   "outputs": [],
   "source": [
    "#    HotMetal\tBathWt\t    O\t        Temp\t    BlowDur\t    O2SideLance-B\tC_%\n",
    "min_HotMetal=100.000000\t\n",
    "max_HotMetal=183.000000\t\n",
    "\n",
    "min_BathWt=102.400000\t\n",
    "max_BathWt=267.200000\t\n",
    "\n",
    "Min_O=34.000000\t\n",
    "max_O=2010.000000\t\n",
    "\n",
    "Min_Temp=1525.000000\t\n",
    "max_Temp=1766.000000\t\n",
    "\n",
    "min_BlowDur=0.000000\t\n",
    "max_BlowDur=98.280000\t\n",
    "\n",
    "min_O2Side=0.000000\t\n",
    "max_O2Side=3454.700000\t\n",
    "\n",
    "min_C=0.002000\n",
    "max_C=0.099000"
   ]
  },
  {
   "cell_type": "code",
   "execution_count": 19,
   "metadata": {},
   "outputs": [
    {
     "name": "stdout",
     "output_type": "stream",
     "text": [
      "[0.03758793 0.02168108 0.03085358 0.07318241 0.04037454 0.04812514\n",
      " 0.02453652 0.03357012 0.03380668 0.0885065  0.03692666 0.058945\n",
      " 0.03287108 0.02580619 0.03057631 0.04804048 0.05173335 0.03592645\n",
      " 0.0365849 ]\n"
     ]
    },
    {
     "data": {
      "text/html": [
       "<div>\n",
       "<style scoped>\n",
       "    .dataframe tbody tr th:only-of-type {\n",
       "        vertical-align: middle;\n",
       "    }\n",
       "\n",
       "    .dataframe tbody tr th {\n",
       "        vertical-align: top;\n",
       "    }\n",
       "\n",
       "    .dataframe thead th {\n",
       "        text-align: right;\n",
       "    }\n",
       "</style>\n",
       "<table border=\"1\" class=\"dataframe\">\n",
       "  <thead>\n",
       "    <tr style=\"text-align: right;\">\n",
       "      <th></th>\n",
       "      <th>Actual_C</th>\n",
       "      <th>Predicted_C</th>\n",
       "    </tr>\n",
       "    <tr>\n",
       "      <th>Heat</th>\n",
       "      <th></th>\n",
       "      <th></th>\n",
       "    </tr>\n",
       "  </thead>\n",
       "  <tbody>\n",
       "    <tr>\n",
       "      <th>23300227</th>\n",
       "      <td>0.038</td>\n",
       "      <td>0.037588</td>\n",
       "    </tr>\n",
       "    <tr>\n",
       "      <th>22405357</th>\n",
       "      <td>0.020</td>\n",
       "      <td>0.021681</td>\n",
       "    </tr>\n",
       "    <tr>\n",
       "      <th>23300243</th>\n",
       "      <td>0.030</td>\n",
       "      <td>0.030854</td>\n",
       "    </tr>\n",
       "    <tr>\n",
       "      <th>23300175</th>\n",
       "      <td>0.075</td>\n",
       "      <td>0.073182</td>\n",
       "    </tr>\n",
       "    <tr>\n",
       "      <th>23200140</th>\n",
       "      <td>0.040</td>\n",
       "      <td>0.040375</td>\n",
       "    </tr>\n",
       "    <tr>\n",
       "      <th>23200541</th>\n",
       "      <td>0.048</td>\n",
       "      <td>0.048125</td>\n",
       "    </tr>\n",
       "    <tr>\n",
       "      <th>23400160</th>\n",
       "      <td>0.023</td>\n",
       "      <td>0.024537</td>\n",
       "    </tr>\n",
       "    <tr>\n",
       "      <th>23200196</th>\n",
       "      <td>0.033</td>\n",
       "      <td>0.033570</td>\n",
       "    </tr>\n",
       "    <tr>\n",
       "      <th>22405596</th>\n",
       "      <td>0.033</td>\n",
       "      <td>0.033807</td>\n",
       "    </tr>\n",
       "    <tr>\n",
       "      <th>22105616</th>\n",
       "      <td>0.090</td>\n",
       "      <td>0.088506</td>\n",
       "    </tr>\n",
       "    <tr>\n",
       "      <th>23400789</th>\n",
       "      <td>0.036</td>\n",
       "      <td>0.036927</td>\n",
       "    </tr>\n",
       "    <tr>\n",
       "      <th>22105531</th>\n",
       "      <td>0.061</td>\n",
       "      <td>0.058945</td>\n",
       "    </tr>\n",
       "    <tr>\n",
       "      <th>23400870</th>\n",
       "      <td>0.032</td>\n",
       "      <td>0.032871</td>\n",
       "    </tr>\n",
       "    <tr>\n",
       "      <th>22205460</th>\n",
       "      <td>0.025</td>\n",
       "      <td>0.025806</td>\n",
       "    </tr>\n",
       "    <tr>\n",
       "      <th>23200824</th>\n",
       "      <td>0.030</td>\n",
       "      <td>0.030576</td>\n",
       "    </tr>\n",
       "    <tr>\n",
       "      <th>23200276</th>\n",
       "      <td>0.047</td>\n",
       "      <td>0.048040</td>\n",
       "    </tr>\n",
       "    <tr>\n",
       "      <th>23300532</th>\n",
       "      <td>0.052</td>\n",
       "      <td>0.051733</td>\n",
       "    </tr>\n",
       "    <tr>\n",
       "      <th>22205783</th>\n",
       "      <td>0.035</td>\n",
       "      <td>0.035926</td>\n",
       "    </tr>\n",
       "    <tr>\n",
       "      <th>23200057</th>\n",
       "      <td>0.036</td>\n",
       "      <td>0.036585</td>\n",
       "    </tr>\n",
       "  </tbody>\n",
       "</table>\n",
       "</div>"
      ],
      "text/plain": [
       "          Actual_C  Predicted_C\n",
       "Heat                           \n",
       "23300227     0.038     0.037588\n",
       "22405357     0.020     0.021681\n",
       "23300243     0.030     0.030854\n",
       "23300175     0.075     0.073182\n",
       "23200140     0.040     0.040375\n",
       "23200541     0.048     0.048125\n",
       "23400160     0.023     0.024537\n",
       "23200196     0.033     0.033570\n",
       "22405596     0.033     0.033807\n",
       "22105616     0.090     0.088506\n",
       "23400789     0.036     0.036927\n",
       "22105531     0.061     0.058945\n",
       "23400870     0.032     0.032871\n",
       "22205460     0.025     0.025806\n",
       "23200824     0.030     0.030576\n",
       "23200276     0.047     0.048040\n",
       "23300532     0.052     0.051733\n",
       "22205783     0.035     0.035926\n",
       "23200057     0.036     0.036585"
      ]
     },
     "execution_count": 19,
     "metadata": {},
     "output_type": "execute_result"
    }
   ],
   "source": [
    "# Load model from pickle file\n",
    "with open('/Users/patil/OneDrive/Desktop/Model 3 Mon data/model.pkl', 'rb') as f:\n",
    "    xgb_r = pickle.load(f)\n",
    "\n",
    "# Load new data\n",
    "df = pd.read_excel('/Users/patil/OneDrive/Desktop/Model 3 Mon data/Train Data Model.xlsx', sheet_name='Test',index_col=0)\n",
    "df['HotMetal'] = df['HotMetal'].apply(lambda x: ((x-min_HotMetal)/(max_HotMetal-min_HotMetal))) \n",
    "df['BathWt'] = df['BathWt'].apply(lambda x: ((x-min_BathWt)/(max_BathWt-min_BathWt))) \n",
    "df['O'] = df['O'].apply(lambda x: ((x-Min_O)/(max_O-Min_O))) \n",
    "df['Temp'] = df['Temp'].apply(lambda x: ((x-Min_Temp)/(max_Temp-Min_Temp))) \n",
    "df['BlowDur'] = df['BlowDur'].apply(lambda x: ((x-min_BlowDur)/(max_BlowDur-min_BlowDur))) \n",
    "df['O2SideLance-B'] = df['O2SideLance-B'].apply(lambda x: ((x-min_O2Side)/(max_O2Side-min_O2Side))) \n",
    "\n",
    "X=df.drop('C_%',axis=1)\n",
    "Y=df['C_%']\n",
    "# Make predictions on new data\n",
    "predictions = xgb_r.predict(X)*(max_C-min_C)+min_C\n",
    "\n",
    "# Print predictions\n",
    "print(predictions)\n",
    "df2 = pd.DataFrame({'Actual_C': Y, 'Predicted_C': predictions})\n",
    "df2"
   ]
  },
  {
   "cell_type": "code",
   "execution_count": 20,
   "metadata": {},
   "outputs": [
    {
     "data": {
      "text/plain": [
       "<matplotlib.collections.PathCollection at 0x232d6076c40>"
      ]
     },
     "execution_count": 20,
     "metadata": {},
     "output_type": "execute_result"
    },
    {
     "data": {
      "image/png": "[encoded data removed]",
      "text/plain": [
       "<Figure size 432x288 with 1 Axes>"
      ]
     },
     "metadata": {
      "needs_background": "light"
     },
     "output_type": "display_data"
    }
   ],
   "source": [
    "plt.scatter(Y,predictions)"
   ]
  },
  {
   "cell_type": "code",
   "execution_count": null,
   "metadata": {},
   "outputs": [],
   "source": []
  },
  {
   "cell_type": "code",
   "execution_count": null,
   "metadata": {},
   "outputs": [],
   "source": []
  },
  {
   "cell_type": "code",
   "execution_count": null,
   "metadata": {},
   "outputs": [],
   "source": []
  }
 ],
 "metadata": {
  "kernelspec": {
   "display_name": "Python 3",
   "language": "python",
   "name": "python3"
  },
  "language_info": {
   "codemirror_mode": {
    "name": "ipython",
    "version": 3
   },
   "file_extension": ".py",
   "mimetype": "text/x-python",
   "name": "python",
   "nbconvert_exporter": "python",
   "pygments_lexer": "ipython3",
   "version": "3.9.13"
  },
  "orig_nbformat": 4
 },
 "nbformat": 4,
 "nbformat_minor": 2
}
